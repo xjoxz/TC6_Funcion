{
 "cells": [
  {
   "cell_type": "code",
   "execution_count": 3,
   "metadata": {},
   "outputs": [],
   "source": [
    "import restenz"
   ]
  },
  {
   "cell_type": "code",
   "execution_count": 5,
   "metadata": {},
   "outputs": [
    {
     "name": "stdout",
     "output_type": "stream",
     "text": [
      "Fragmentos con EcoR1: ['CGATGAT', 'GTACCCGAGCT', 'AGCA', 'AGCTGATCGATACCA', 'CATA']\n",
      "Fragmentos de Hindlll: ['CGATGATGAATTCGTACCCGAGCTGAATTCAGCAGAATTCAGCTGATCGATACCAGAATTCCATA']\n",
      "Fragmentos de Notl: ['CGATGATGAATTCGTACCCGAGCTGAATTCAGCAGAATTCAGCTGATCGATACCAGAATTCCATA']\n"
     ]
    }
   ],
   "source": [
    "seq = \"CGATGATGAATTCGTACCCGAGCTGAATTCAGCAGAATTCAGCTGATCGATACCAGAATTCCATA\"\n",
    "\n",
    "enzima_EcoR1 = \"GAATTC\"\n",
    "enzima_Hindlll = \"AAGCTT\"\n",
    "enzima_Notl = \"GCGGCCGC\"\n",
    "\n",
    "fragmentos_EcoR1 = restenz.enzima(seq, enzima_EcoR1)\n",
    "fragmentos_Hindlll = restenz.enzima(seq, enzima_Hindlll)\n",
    "fragmentos_Notl = restenz.enzima(seq, enzima_Notl)\n",
    "\n",
    "print(\"Fragmentos con EcoR1:\", fragmentos_EcoR1)\n",
    "print(\"Fragmentos de Hindlll:\", fragmentos_Hindlll)\n",
    "print(\"Fragmentos de Notl:\", fragmentos_Notl)"
   ]
  }
 ],
 "metadata": {
  "kernelspec": {
   "display_name": "Python 3",
   "language": "python",
   "name": "python3"
  },
  "language_info": {
   "codemirror_mode": {
    "name": "ipython",
    "version": 3
   },
   "file_extension": ".py",
   "mimetype": "text/x-python",
   "name": "python",
   "nbconvert_exporter": "python",
   "pygments_lexer": "ipython3",
   "version": "3.10.8"
  },
  "orig_nbformat": 4
 },
 "nbformat": 4,
 "nbformat_minor": 2
}
